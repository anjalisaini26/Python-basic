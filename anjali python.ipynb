{
 "cells": [
  {
   "cell_type": "markdown",
   "id": "41961688",
   "metadata": {},
   "source": [
    "# coding"
   ]
  },
  {
   "cell_type": "markdown",
   "id": "8b793bca",
   "metadata": {},
   "source": [
    "### @AUTHOR :anjali saini"
   ]
  },
  {
   "cell_type": "code",
   "execution_count": 1,
   "id": "3c40ae56",
   "metadata": {},
   "outputs": [
    {
     "data": {
      "text/plain": [
       "'i am learning python'"
      ]
     },
     "execution_count": 1,
     "metadata": {},
     "output_type": "execute_result"
    }
   ],
   "source": [
    "strng=(\"i am learning python\")\n",
    "strng"
   ]
  },
  {
   "cell_type": "code",
   "execution_count": 23,
   "id": "f8846009",
   "metadata": {},
   "outputs": [
    {
     "data": {
      "text/plain": [
       "20"
      ]
     },
     "execution_count": 23,
     "metadata": {},
     "output_type": "execute_result"
    }
   ],
   "source": [
    "len(strng)"
   ]
  },
  {
   "cell_type": "code",
   "execution_count": 3,
   "id": "0f3eaed6",
   "metadata": {},
   "outputs": [
    {
     "name": "stdout",
     "output_type": "stream",
     "text": [
      "<class 'str'>\n"
     ]
    }
   ],
   "source": [
    "print (type(strng))"
   ]
  },
  {
   "cell_type": "markdown",
   "id": "de99c264",
   "metadata": {},
   "source": [
    "##### len(length)=count alphabets and spaces"
   ]
  },
  {
   "cell_type": "code",
   "execution_count": 41,
   "id": "a5f4cee0",
   "metadata": {},
   "outputs": [
    {
     "data": {
      "text/plain": [
       "'i am learning python'"
      ]
     },
     "execution_count": 41,
     "metadata": {},
     "output_type": "execute_result"
    }
   ],
   "source": [
    "strng1=\"i am learning python\"\n",
    "strng1"
   ]
  },
  {
   "cell_type": "code",
   "execution_count": 42,
   "id": "d603d9dc",
   "metadata": {},
   "outputs": [
    {
     "data": {
      "text/plain": [
       "20"
      ]
     },
     "execution_count": 42,
     "metadata": {},
     "output_type": "execute_result"
    }
   ],
   "source": [
    "len(strng1)"
   ]
  },
  {
   "cell_type": "markdown",
   "id": "f2110b26",
   "metadata": {},
   "source": [
    "#### parenthesis is immaterial_even if we omit brackets,dashes it won't have any consequences"
   ]
  },
  {
   "cell_type": "code",
   "execution_count": 28,
   "id": "96edfbc5",
   "metadata": {},
   "outputs": [
    {
     "data": {
      "text/plain": [
       "'n'"
      ]
     },
     "execution_count": 28,
     "metadata": {},
     "output_type": "execute_result"
    }
   ],
   "source": [
    "strng[len(strng)-1]"
   ]
  },
  {
   "cell_type": "markdown",
   "id": "2bc6c403",
   "metadata": {},
   "source": [
    "##gives the 19th element n"
   ]
  },
  {
   "cell_type": "code",
   "execution_count": 29,
   "id": "ec6b88d9",
   "metadata": {},
   "outputs": [
    {
     "data": {
      "text/plain": [
       "'o'"
      ]
     },
     "execution_count": 29,
     "metadata": {},
     "output_type": "execute_result"
    }
   ],
   "source": [
    "strng[-2]"
   ]
  },
  {
   "cell_type": "code",
   "execution_count": 32,
   "id": "2c8666ae",
   "metadata": {},
   "outputs": [
    {
     "data": {
      "text/plain": [
       "'h'"
      ]
     },
     "execution_count": 32,
     "metadata": {},
     "output_type": "execute_result"
    }
   ],
   "source": [
    "strng[-3]"
   ]
  },
  {
   "cell_type": "code",
   "execution_count": 33,
   "id": "248e9dd4",
   "metadata": {},
   "outputs": [
    {
     "data": {
      "text/plain": [
       "'t'"
      ]
     },
     "execution_count": 33,
     "metadata": {},
     "output_type": "execute_result"
    }
   ],
   "source": [
    "strng[-4]"
   ]
  },
  {
   "cell_type": "code",
   "execution_count": 35,
   "id": "9c38c751",
   "metadata": {},
   "outputs": [
    {
     "data": {
      "text/plain": [
       "' '"
      ]
     },
     "execution_count": 35,
     "metadata": {},
     "output_type": "execute_result"
    }
   ],
   "source": [
    "strng[-7]"
   ]
  },
  {
   "cell_type": "code",
   "execution_count": 36,
   "id": "428e606e",
   "metadata": {},
   "outputs": [
    {
     "data": {
      "text/plain": [
       "'i '"
      ]
     },
     "execution_count": 36,
     "metadata": {},
     "output_type": "execute_result"
    }
   ],
   "source": [
    "strng[0:2]"
   ]
  },
  {
   "cell_type": "code",
   "execution_count": 31,
   "id": "8d967c97",
   "metadata": {},
   "outputs": [
    {
     "data": {
      "text/plain": [
       "'m l'"
      ]
     },
     "execution_count": 31,
     "metadata": {},
     "output_type": "execute_result"
    }
   ],
   "source": [
    "strng[3:6]"
   ]
  },
  {
   "cell_type": "code",
   "execution_count": 32,
   "id": "6d8b7475",
   "metadata": {},
   "outputs": [
    {
     "data": {
      "text/plain": [
       "'lea'"
      ]
     },
     "execution_count": 32,
     "metadata": {},
     "output_type": "execute_result"
    }
   ],
   "source": [
    "strng[5:8]"
   ]
  },
  {
   "cell_type": "markdown",
   "id": "bf88026c",
   "metadata": {},
   "source": [
    "###### inculudes 6th,7th,8th element"
   ]
  },
  {
   "cell_type": "code",
   "execution_count": 33,
   "id": "44d1bdee",
   "metadata": {},
   "outputs": [
    {
     "data": {
      "text/plain": [
       "'i am'"
      ]
     },
     "execution_count": 33,
     "metadata": {},
     "output_type": "execute_result"
    }
   ],
   "source": [
    "strng[ :4]"
   ]
  },
  {
   "cell_type": "markdown",
   "id": "3ffef002",
   "metadata": {},
   "source": [
    "###### includes from 0th till 3rd element"
   ]
  },
  {
   "cell_type": "code",
   "execution_count": 34,
   "id": "7ea7d188",
   "metadata": {},
   "outputs": [
    {
     "data": {
      "text/plain": [
       "'hon'"
      ]
     },
     "execution_count": 34,
     "metadata": {},
     "output_type": "execute_result"
    }
   ],
   "source": [
    "strng[17:]"
   ]
  },
  {
   "cell_type": "markdown",
   "id": "9da04f30",
   "metadata": {},
   "source": [
    "##### starts from 17th till the last element"
   ]
  },
  {
   "cell_type": "code",
   "execution_count": 35,
   "id": "086f474a",
   "metadata": {},
   "outputs": [
    {
     "data": {
      "text/plain": [
       "'i am learning python'"
      ]
     },
     "execution_count": 35,
     "metadata": {},
     "output_type": "execute_result"
    }
   ],
   "source": [
    "strng[ : ]"
   ]
  },
  {
   "cell_type": "markdown",
   "id": "7db53741",
   "metadata": {},
   "source": [
    "##### includes all the elements in the string"
   ]
  },
  {
   "cell_type": "markdown",
   "id": "c983f831",
   "metadata": {},
   "source": [
    "#### adding two strings"
   ]
  },
  {
   "cell_type": "code",
   "execution_count": 37,
   "id": "43ee1058",
   "metadata": {},
   "outputs": [
    {
     "data": {
      "text/plain": [
       "'all is well'"
      ]
     },
     "execution_count": 37,
     "metadata": {},
     "output_type": "execute_result"
    }
   ],
   "source": [
    "a=\"all is well\"\n",
    "a"
   ]
  },
  {
   "cell_type": "code",
   "execution_count": 41,
   "id": "fa05726d",
   "metadata": {},
   "outputs": [
    {
     "data": {
      "text/plain": [
       "'All is well'"
      ]
     },
     "execution_count": 41,
     "metadata": {},
     "output_type": "execute_result"
    }
   ],
   "source": [
    "b=\"A\"+a[1: ]\n",
    "b"
   ]
  },
  {
   "cell_type": "code",
   "execution_count": 2,
   "id": "e293996a",
   "metadata": {},
   "outputs": [
    {
     "data": {
      "text/plain": [
       "'all is well'"
      ]
     },
     "execution_count": 2,
     "metadata": {},
     "output_type": "execute_result"
    }
   ],
   "source": [
    "a=\"all is well\"\n",
    "a"
   ]
  },
  {
   "cell_type": "code",
   "execution_count": 6,
   "id": "c5c5103f",
   "metadata": {},
   "outputs": [
    {
     "data": {
      "text/plain": [
       "'lol is well'"
      ]
     },
     "execution_count": 6,
     "metadata": {},
     "output_type": "execute_result"
    }
   ],
   "source": [
    "b=\"lol\"+a[3:]\n",
    "b"
   ]
  },
  {
   "cell_type": "code",
   "execution_count": 42,
   "id": "6b2ad830",
   "metadata": {},
   "outputs": [
    {
     "data": {
      "text/plain": [
       "11"
      ]
     },
     "execution_count": 42,
     "metadata": {},
     "output_type": "execute_result"
    }
   ],
   "source": [
    "len(a)"
   ]
  },
  {
   "cell_type": "code",
   "execution_count": 43,
   "id": "4453a773",
   "metadata": {},
   "outputs": [
    {
     "data": {
      "text/plain": [
       "11"
      ]
     },
     "execution_count": 43,
     "metadata": {},
     "output_type": "execute_result"
    }
   ],
   "source": [
    "len(b)"
   ]
  },
  {
   "cell_type": "code",
   "execution_count": 2,
   "id": "f6aebd32",
   "metadata": {},
   "outputs": [
    {
     "data": {
      "text/plain": [
       "(7, 'luck', 'excellent', 5.5)"
      ]
     },
     "execution_count": 2,
     "metadata": {},
     "output_type": "execute_result"
    }
   ],
   "source": [
    "mytuple=(7,'luck','excellent',5.5)\n",
    "mytuple"
   ]
  },
  {
   "cell_type": "code",
   "execution_count": 3,
   "id": "1773f457",
   "metadata": {},
   "outputs": [
    {
     "data": {
      "text/plain": [
       "4"
      ]
     },
     "execution_count": 3,
     "metadata": {},
     "output_type": "execute_result"
    }
   ],
   "source": [
    "len(mytuple)"
   ]
  },
  {
   "cell_type": "code",
   "execution_count": 4,
   "id": "2ad64e1f",
   "metadata": {},
   "outputs": [
    {
     "data": {
      "text/plain": [
       "7"
      ]
     },
     "execution_count": 4,
     "metadata": {},
     "output_type": "execute_result"
    }
   ],
   "source": [
    "mytuple[0]"
   ]
  },
  {
   "cell_type": "code",
   "execution_count": 5,
   "id": "1de5d251",
   "metadata": {},
   "outputs": [
    {
     "data": {
      "text/plain": [
       "'luck'"
      ]
     },
     "execution_count": 5,
     "metadata": {},
     "output_type": "execute_result"
    }
   ],
   "source": [
    "mytuple[1]"
   ]
  },
  {
   "cell_type": "code",
   "execution_count": 6,
   "id": "a59d3624",
   "metadata": {},
   "outputs": [
    {
     "data": {
      "text/plain": [
       "'excellent'"
      ]
     },
     "execution_count": 6,
     "metadata": {},
     "output_type": "execute_result"
    }
   ],
   "source": [
    "mytuple[2]"
   ]
  },
  {
   "cell_type": "code",
   "execution_count": 10,
   "id": "aa3ff1d9",
   "metadata": {},
   "outputs": [
    {
     "data": {
      "text/plain": [
       "5.5"
      ]
     },
     "execution_count": 10,
     "metadata": {},
     "output_type": "execute_result"
    }
   ],
   "source": [
    "mytuple[3]"
   ]
  },
  {
   "cell_type": "code",
   "execution_count": 8,
   "id": "483743e0",
   "metadata": {},
   "outputs": [
    {
     "ename": "IndexError",
     "evalue": "tuple index out of range",
     "output_type": "error",
     "traceback": [
      "\u001b[1;31m---------------------------------------------------------------------------\u001b[0m",
      "\u001b[1;31mIndexError\u001b[0m                                Traceback (most recent call last)",
      "\u001b[1;32m~\\AppData\\Local\\Temp\\ipykernel_3372\\2864839006.py\u001b[0m in \u001b[0;36m<module>\u001b[1;34m\u001b[0m\n\u001b[1;32m----> 1\u001b[1;33m \u001b[0mmytuple\u001b[0m\u001b[1;33m[\u001b[0m\u001b[1;36m4\u001b[0m\u001b[1;33m]\u001b[0m\u001b[1;33m\u001b[0m\u001b[1;33m\u001b[0m\u001b[0m\n\u001b[0m",
      "\u001b[1;31mIndexError\u001b[0m: tuple index out of range"
     ]
    }
   ],
   "source": [
    "mytuple[4]"
   ]
  },
  {
   "cell_type": "code",
   "execution_count": 38,
   "id": "afba1a08",
   "metadata": {},
   "outputs": [
    {
     "data": {
      "text/plain": [
       "5.5"
      ]
     },
     "execution_count": 38,
     "metadata": {},
     "output_type": "execute_result"
    }
   ],
   "source": [
    "mytuple[-1]"
   ]
  },
  {
   "cell_type": "markdown",
   "id": "24b04e85",
   "metadata": {},
   "source": [
    "##### 4-1=3rd element "
   ]
  },
  {
   "cell_type": "code",
   "execution_count": 39,
   "id": "df7e3845",
   "metadata": {},
   "outputs": [
    {
     "data": {
      "text/plain": [
       "'excellent'"
      ]
     },
     "execution_count": 39,
     "metadata": {},
     "output_type": "execute_result"
    }
   ],
   "source": [
    "mytuple[-2]"
   ]
  },
  {
   "cell_type": "code",
   "execution_count": 41,
   "id": "7e9c9bd2",
   "metadata": {},
   "outputs": [
    {
     "data": {
      "text/plain": [
       "'luck'"
      ]
     },
     "execution_count": 41,
     "metadata": {},
     "output_type": "execute_result"
    }
   ],
   "source": [
    "mytuple[-3]"
   ]
  },
  {
   "cell_type": "code",
   "execution_count": 42,
   "id": "30240a2c",
   "metadata": {},
   "outputs": [
    {
     "data": {
      "text/plain": [
       "7"
      ]
     },
     "execution_count": 42,
     "metadata": {},
     "output_type": "execute_result"
    }
   ],
   "source": [
    "mytuple[-4]"
   ]
  },
  {
   "cell_type": "code",
   "execution_count": 43,
   "id": "1cedc9f9",
   "metadata": {},
   "outputs": [
    {
     "ename": "IndexError",
     "evalue": "tuple index out of range",
     "output_type": "error",
     "traceback": [
      "\u001b[1;31m---------------------------------------------------------------------------\u001b[0m",
      "\u001b[1;31mIndexError\u001b[0m                                Traceback (most recent call last)",
      "\u001b[1;32m~\\AppData\\Local\\Temp\\ipykernel_3372\\3846198554.py\u001b[0m in \u001b[0;36m<module>\u001b[1;34m\u001b[0m\n\u001b[1;32m----> 1\u001b[1;33m \u001b[0mmytuple\u001b[0m\u001b[1;33m[\u001b[0m\u001b[1;33m-\u001b[0m\u001b[1;36m5\u001b[0m\u001b[1;33m]\u001b[0m\u001b[1;33m\u001b[0m\u001b[1;33m\u001b[0m\u001b[0m\n\u001b[0m",
      "\u001b[1;31mIndexError\u001b[0m: tuple index out of range"
     ]
    }
   ],
   "source": [
    "mytuple[-5]"
   ]
  },
  {
   "cell_type": "code",
   "execution_count": 46,
   "id": "a02c3f24",
   "metadata": {},
   "outputs": [
    {
     "data": {
      "text/plain": [
       "(7, 'luck')"
      ]
     },
     "execution_count": 46,
     "metadata": {},
     "output_type": "execute_result"
    }
   ],
   "source": [
    "mytuple[0:2]"
   ]
  },
  {
   "cell_type": "code",
   "execution_count": 47,
   "id": "9838fa0e",
   "metadata": {},
   "outputs": [
    {
     "data": {
      "text/plain": [
       "(5.5,)"
      ]
     },
     "execution_count": 47,
     "metadata": {},
     "output_type": "execute_result"
    }
   ],
   "source": [
    "mytuple[3:4]"
   ]
  },
  {
   "cell_type": "markdown",
   "id": "28336f49",
   "metadata": {},
   "source": [
    "#includes 3th element"
   ]
  },
  {
   "cell_type": "code",
   "execution_count": 51,
   "id": "8aea7a70",
   "metadata": {},
   "outputs": [],
   "source": [
    "mytuple+=(\"wornderfull\" ,)"
   ]
  },
  {
   "cell_type": "markdown",
   "id": "f203ad36",
   "metadata": {},
   "source": [
    "\n",
    "don't forget to put \",\" after the word be add"
   ]
  },
  {
   "cell_type": "code",
   "execution_count": 53,
   "id": "650d2fc0",
   "metadata": {},
   "outputs": [
    {
     "data": {
      "text/plain": [
       "(11, 33, 44, 22, 55)"
      ]
     },
     "execution_count": 53,
     "metadata": {},
     "output_type": "execute_result"
    }
   ],
   "source": [
    "tuple1=(11,33,44,22,55)\n",
    "tuple1"
   ]
  },
  {
   "cell_type": "code",
   "execution_count": 56,
   "id": "ba6bc6de",
   "metadata": {},
   "outputs": [
    {
     "data": {
      "text/plain": [
       "[11, 22, 33, 44, 55]"
      ]
     },
     "execution_count": 56,
     "metadata": {},
     "output_type": "execute_result"
    }
   ],
   "source": [
    "tuple2=sorted(tuple1)\n",
    "tuple2"
   ]
  },
  {
   "cell_type": "markdown",
   "id": "77ef32cb",
   "metadata": {},
   "source": [
    "#arrange in ascending order & brakets changed from round to square."
   ]
  },
  {
   "cell_type": "code",
   "execution_count": 57,
   "id": "5451c7ef",
   "metadata": {},
   "outputs": [
    {
     "data": {
      "text/plain": [
       "True"
      ]
     },
     "execution_count": 57,
     "metadata": {},
     "output_type": "execute_result"
    }
   ],
   "source": [
    "isinstance(tuple1,tuple)"
   ]
  },
  {
   "cell_type": "code",
   "execution_count": 59,
   "id": "a24760aa",
   "metadata": {},
   "outputs": [
    {
     "data": {
      "text/plain": [
       "False"
      ]
     },
     "execution_count": 59,
     "metadata": {},
     "output_type": "execute_result"
    }
   ],
   "source": [
    "isinstance(tuple2,tuple)"
   ]
  },
  {
   "cell_type": "code",
   "execution_count": 60,
   "id": "1d91e9e2",
   "metadata": {},
   "outputs": [
    {
     "data": {
      "text/plain": [
       "True"
      ]
     },
     "execution_count": 60,
     "metadata": {},
     "output_type": "execute_result"
    }
   ],
   "source": [
    "isinstance(tuple2,list)"
   ]
  },
  {
   "cell_type": "markdown",
   "id": "73e3df60",
   "metadata": {},
   "source": [
    " # interger vs tuple"
   ]
  },
  {
   "cell_type": "code",
   "execution_count": 68,
   "id": "68e18685",
   "metadata": {},
   "outputs": [
    {
     "data": {
      "text/plain": [
       "4"
      ]
     },
     "execution_count": 68,
     "metadata": {},
     "output_type": "execute_result"
    }
   ],
   "source": [
    "a=4\n",
    "a"
   ]
  },
  {
   "cell_type": "code",
   "execution_count": 69,
   "id": "b6d1e21e",
   "metadata": {},
   "outputs": [
    {
     "data": {
      "text/plain": [
       "(4,)"
      ]
     },
     "execution_count": 69,
     "metadata": {},
     "output_type": "execute_result"
    }
   ],
   "source": [
    "b=(4,)\n",
    "b"
   ]
  },
  {
   "cell_type": "code",
   "execution_count": 70,
   "id": "080b725c",
   "metadata": {},
   "outputs": [
    {
     "data": {
      "text/plain": [
       "False"
      ]
     },
     "execution_count": 70,
     "metadata": {},
     "output_type": "execute_result"
    }
   ],
   "source": [
    "isinstance(a,tuple)"
   ]
  },
  {
   "cell_type": "code",
   "execution_count": 71,
   "id": "27e6f429",
   "metadata": {},
   "outputs": [
    {
     "data": {
      "text/plain": [
       "True"
      ]
     },
     "execution_count": 71,
     "metadata": {},
     "output_type": "execute_result"
    }
   ],
   "source": [
    "isinstance(b,tuple)"
   ]
  },
  {
   "cell_type": "code",
   "execution_count": 72,
   "id": "0c7c01a6",
   "metadata": {},
   "outputs": [
    {
     "data": {
      "text/plain": [
       "False"
      ]
     },
     "execution_count": 72,
     "metadata": {},
     "output_type": "execute_result"
    }
   ],
   "source": [
    "isinstance(b,list)"
   ]
  },
  {
   "cell_type": "markdown",
   "id": "738573ca",
   "metadata": {},
   "source": [
    "# string vs tuple"
   ]
  },
  {
   "cell_type": "code",
   "execution_count": 73,
   "id": "c233d270",
   "metadata": {},
   "outputs": [
    {
     "data": {
      "text/plain": [
       "'hello world!'"
      ]
     },
     "execution_count": 73,
     "metadata": {},
     "output_type": "execute_result"
    }
   ],
   "source": [
    "a=(\"hello world!\")\n",
    "a"
   ]
  },
  {
   "cell_type": "code",
   "execution_count": 74,
   "id": "00fbebc4",
   "metadata": {},
   "outputs": [
    {
     "data": {
      "text/plain": [
       "False"
      ]
     },
     "execution_count": 74,
     "metadata": {},
     "output_type": "execute_result"
    }
   ],
   "source": [
    "isinstance(a,tuple)"
   ]
  },
  {
   "cell_type": "code",
   "execution_count": 75,
   "id": "3fd44d4a",
   "metadata": {},
   "outputs": [
    {
     "data": {
      "text/plain": [
       "(' hello world!', 'hi')"
      ]
     },
     "execution_count": 75,
     "metadata": {},
     "output_type": "execute_result"
    }
   ],
   "source": [
    "a=(\" hello world!\",\"hi\")\n",
    "a"
   ]
  },
  {
   "cell_type": "code",
   "execution_count": 76,
   "id": "4be8c2ff",
   "metadata": {},
   "outputs": [
    {
     "data": {
      "text/plain": [
       "True"
      ]
     },
     "execution_count": 76,
     "metadata": {},
     "output_type": "execute_result"
    }
   ],
   "source": [
    "isinstance(a,tuple)"
   ]
  },
  {
   "cell_type": "code",
   "execution_count": 77,
   "id": "b0c8f5f0",
   "metadata": {},
   "outputs": [
    {
     "data": {
      "text/plain": [
       "('hello world!',)"
      ]
     },
     "execution_count": 77,
     "metadata": {},
     "output_type": "execute_result"
    }
   ],
   "source": [
    "b=(\"hello world!\",)\n",
    "b"
   ]
  },
  {
   "cell_type": "code",
   "execution_count": 78,
   "id": "d68759c5",
   "metadata": {},
   "outputs": [
    {
     "data": {
      "text/plain": [
       "True"
      ]
     },
     "execution_count": 78,
     "metadata": {},
     "output_type": "execute_result"
    }
   ],
   "source": [
    "isinstance(b,tuple)\n"
   ]
  },
  {
   "cell_type": "markdown",
   "id": "68e1c890",
   "metadata": {},
   "source": [
    "# string into tuple"
   ]
  },
  {
   "cell_type": "code",
   "execution_count": 80,
   "id": "1c2df4bb",
   "metadata": {},
   "outputs": [
    {
     "data": {
      "text/plain": [
       "'hello world!'"
      ]
     },
     "execution_count": 80,
     "metadata": {},
     "output_type": "execute_result"
    }
   ],
   "source": [
    "k=(\"hello world!\")\n",
    "k"
   ]
  },
  {
   "cell_type": "code",
   "execution_count": 82,
   "id": "d42a6efd",
   "metadata": {},
   "outputs": [
    {
     "data": {
      "text/plain": [
       "('h', 'e', 'l', 'l', 'o', ' ', 'w', 'o', 'r', 'l', 'd', '!')"
      ]
     },
     "execution_count": 82,
     "metadata": {},
     "output_type": "execute_result"
    }
   ],
   "source": [
    "m=tuple(k)\n",
    "m"
   ]
  },
  {
   "cell_type": "code",
   "execution_count": 83,
   "id": "2cca5c5f",
   "metadata": {},
   "outputs": [
    {
     "data": {
      "text/plain": [
       "12"
      ]
     },
     "execution_count": 83,
     "metadata": {},
     "output_type": "execute_result"
    }
   ],
   "source": [
    "len(k)"
   ]
  },
  {
   "cell_type": "code",
   "execution_count": 84,
   "id": "de551009",
   "metadata": {},
   "outputs": [
    {
     "data": {
      "text/plain": [
       "12"
      ]
     },
     "execution_count": 84,
     "metadata": {},
     "output_type": "execute_result"
    }
   ],
   "source": [
    "len(m)"
   ]
  },
  {
   "cell_type": "code",
   "execution_count": 85,
   "id": "c4b1faa4",
   "metadata": {},
   "outputs": [
    {
     "data": {
      "text/plain": [
       "False"
      ]
     },
     "execution_count": 85,
     "metadata": {},
     "output_type": "execute_result"
    }
   ],
   "source": [
    "isinstance(k,tuple)"
   ]
  },
  {
   "cell_type": "code",
   "execution_count": 86,
   "id": "465777f3",
   "metadata": {},
   "outputs": [
    {
     "data": {
      "text/plain": [
       "True"
      ]
     },
     "execution_count": 86,
     "metadata": {},
     "output_type": "execute_result"
    }
   ],
   "source": [
    "isinstance(m,tuple)"
   ]
  },
  {
   "cell_type": "markdown",
   "id": "4f6a4270",
   "metadata": {},
   "source": [
    "# dictionry"
   ]
  },
  {
   "cell_type": "code",
   "execution_count": 88,
   "id": "ce5dd638",
   "metadata": {},
   "outputs": [
    {
     "data": {
      "text/plain": [
       "{'bobby': 'dimple', 'sholay': 'hema', 'roja': 'madoo', '3idiots': 'kareena'}"
      ]
     },
     "execution_count": 88,
     "metadata": {},
     "output_type": "execute_result"
    }
   ],
   "source": [
    "pic={\"bobby\":\"dimple\",\"sholay\":\"hema\",\"roja\":\"madoo\",\"3idiots\":\"kareena\"}\n",
    "pic"
   ]
  },
  {
   "cell_type": "markdown",
   "id": "6a6d83bc",
   "metadata": {},
   "source": [
    "###### movie name-key,heroines name-value "
   ]
  },
  {
   "cell_type": "markdown",
   "id": "6894dc4a",
   "metadata": {},
   "source": [
    "#### you change value to key"
   ]
  },
  {
   "cell_type": "code",
   "execution_count": 93,
   "id": "5514e541",
   "metadata": {},
   "outputs": [
    {
     "data": {
      "text/plain": [
       "{'bobby': 'dimple',\n",
       " 'sholay': 'jaya',\n",
       " 'roja': 'madoo',\n",
       " '3idiots': 'kareena',\n",
       " 'sholy': 'jaya'}"
      ]
     },
     "execution_count": 93,
     "metadata": {},
     "output_type": "execute_result"
    }
   ],
   "source": [
    "pic[\"sholay\"]=\"jaya\"\n",
    "pic"
   ]
  },
  {
   "cell_type": "markdown",
   "id": "cb9b46cd",
   "metadata": {},
   "source": [
    "###create a new pair"
   ]
  },
  {
   "cell_type": "code",
   "execution_count": 95,
   "id": "dc0bf4eb",
   "metadata": {},
   "outputs": [],
   "source": [
    "pic[\"dangal\"]=\"sana\""
   ]
  },
  {
   "cell_type": "code",
   "execution_count": 101,
   "id": "d81109e2",
   "metadata": {},
   "outputs": [
    {
     "data": {
      "text/plain": [
       "{'bobby': 'dimple',\n",
       " 'sholay': 'jaya',\n",
       " 'roja': 'madoo',\n",
       " '3idiots': 'kareena',\n",
       " 'sholy': 'jaya',\n",
       " 'dangal': 'sana',\n",
       " 'sultan': 'anushka'}"
      ]
     },
     "execution_count": 101,
     "metadata": {},
     "output_type": "execute_result"
    }
   ],
   "source": [
    "pic[\"sultan\"]=\"anushka\"\n",
    "pic"
   ]
  },
  {
   "cell_type": "markdown",
   "id": "c9e58d72",
   "metadata": {},
   "source": [
    "#### remove any item say, sultan :anushka"
   ]
  },
  {
   "cell_type": "code",
   "execution_count": 102,
   "id": "fd2cd16e",
   "metadata": {},
   "outputs": [
    {
     "data": {
      "text/plain": [
       "{'bobby': 'dimple',\n",
       " 'sholay': 'jaya',\n",
       " 'roja': 'madoo',\n",
       " '3idiots': 'kareena',\n",
       " 'sholy': 'jaya',\n",
       " 'dangal': 'sana'}"
      ]
     },
     "execution_count": 102,
     "metadata": {},
     "output_type": "execute_result"
    }
   ],
   "source": [
    "pic.pop(\"sultan\")\n",
    "pic"
   ]
  },
  {
   "cell_type": "markdown",
   "id": "b554f390",
   "metadata": {},
   "source": [
    "#####retrive items,key,values"
   ]
  },
  {
   "cell_type": "code",
   "execution_count": 108,
   "id": "fde015c1",
   "metadata": {},
   "outputs": [
    {
     "data": {
      "text/plain": [
       "dict_keys(['bobby', 'sholay', 'roja', '3idiots', 'sholy', 'dangal'])"
      ]
     },
     "execution_count": 108,
     "metadata": {},
     "output_type": "execute_result"
    }
   ],
   "source": [
    "pic.keys()"
   ]
  },
  {
   "cell_type": "code",
   "execution_count": 109,
   "id": "15ceba62",
   "metadata": {},
   "outputs": [
    {
     "data": {
      "text/plain": [
       "dict_items([('bobby', 'dimple'), ('sholay', 'jaya'), ('roja', 'madoo'), ('3idiots', 'kareena'), ('sholy', 'jaya'), ('dangal', 'sana')])"
      ]
     },
     "execution_count": 109,
     "metadata": {},
     "output_type": "execute_result"
    }
   ],
   "source": [
    "pic.items()"
   ]
  },
  {
   "cell_type": "code",
   "execution_count": 110,
   "id": "25bd252a",
   "metadata": {},
   "outputs": [
    {
     "data": {
      "text/plain": [
       "dict_values(['dimple', 'jaya', 'madoo', 'kareena', 'jaya', 'sana'])"
      ]
     },
     "execution_count": 110,
     "metadata": {},
     "output_type": "execute_result"
    }
   ],
   "source": [
    "pic.values()"
   ]
  },
  {
   "cell_type": "markdown",
   "id": "007c0a22",
   "metadata": {},
   "source": [
    "#removing last item"
   ]
  },
  {
   "cell_type": "code",
   "execution_count": 113,
   "id": "a8611855",
   "metadata": {},
   "outputs": [
    {
     "data": {
      "text/plain": [
       "{'bobby': 'dimple', 'sholay': 'jaya', 'roja': 'madoo', '3idiots': 'kareena'}"
      ]
     },
     "execution_count": 113,
     "metadata": {},
     "output_type": "execute_result"
    }
   ],
   "source": [
    "pic.popitem()\n",
    "pic"
   ]
  },
  {
   "cell_type": "markdown",
   "id": "fac234ad",
   "metadata": {},
   "source": [
    "#list of movies"
   ]
  },
  {
   "cell_type": "code",
   "execution_count": 114,
   "id": "71e430e8",
   "metadata": {},
   "outputs": [
    {
     "data": {
      "text/plain": [
       "['bobby', 'don', 'dangal']"
      ]
     },
     "execution_count": 114,
     "metadata": {},
     "output_type": "execute_result"
    }
   ],
   "source": [
    "movies=[\"bobby\",\"don\",\"dangal\"]\n",
    "movies"
   ]
  },
  {
   "cell_type": "markdown",
   "id": "37a69b1b",
   "metadata": {},
   "source": [
    "# list"
   ]
  },
  {
   "cell_type": "code",
   "execution_count": 2,
   "id": "fdec6a49",
   "metadata": {},
   "outputs": [],
   "source": [
    "cinema=[\"bobby\",1974,\"raja\",1990,\"3idiots\",2008,[\"dimple\",\"rishi\"],[\"madhoo\",\"arvind\"],[\"kareena\",\"aamir\"]]"
   ]
  },
  {
   "cell_type": "code",
   "execution_count": 116,
   "id": "60f9bb25",
   "metadata": {},
   "outputs": [
    {
     "name": "stdout",
     "output_type": "stream",
     "text": [
      "raja\n"
     ]
    }
   ],
   "source": [
    "print(cinema[2])"
   ]
  },
  {
   "cell_type": "code",
   "execution_count": 118,
   "id": "468f7886",
   "metadata": {},
   "outputs": [
    {
     "name": "stdout",
     "output_type": "stream",
     "text": [
      "1974\n"
     ]
    }
   ],
   "source": [
    "print(cinema[1])"
   ]
  },
  {
   "cell_type": "code",
   "execution_count": 119,
   "id": "153f7a1e",
   "metadata": {},
   "outputs": [
    {
     "name": "stdout",
     "output_type": "stream",
     "text": [
      "3idiots\n"
     ]
    }
   ],
   "source": [
    "print(cinema[4])"
   ]
  },
  {
   "cell_type": "code",
   "execution_count": 3,
   "id": "186c97f8",
   "metadata": {},
   "outputs": [
    {
     "name": "stdout",
     "output_type": "stream",
     "text": [
      "dimple\n"
     ]
    }
   ],
   "source": [
    "print(cinema[6][0])"
   ]
  },
  {
   "cell_type": "code",
   "execution_count": 4,
   "id": "20b00fe7",
   "metadata": {},
   "outputs": [
    {
     "name": "stdout",
     "output_type": "stream",
     "text": [
      "arvind\n"
     ]
    }
   ],
   "source": [
    "print(cinema[7][1])"
   ]
  },
  {
   "cell_type": "markdown",
   "id": "5c0b6e05",
   "metadata": {},
   "source": [
    "# #ALIAS"
   ]
  },
  {
   "cell_type": "code",
   "execution_count": 5,
   "id": "1d10de34",
   "metadata": {},
   "outputs": [
    {
     "data": {
      "text/plain": [
       "[5, 10, 50, 100]"
      ]
     },
     "execution_count": 5,
     "metadata": {},
     "output_type": "execute_result"
    }
   ],
   "source": [
    "A=[5,10,50,100]\n",
    "A"
   ]
  },
  {
   "cell_type": "code",
   "execution_count": 9,
   "id": "7b243afc",
   "metadata": {},
   "outputs": [
    {
     "data": {
      "text/plain": [
       "[5, 10, 50, 100]"
      ]
     },
     "execution_count": 9,
     "metadata": {},
     "output_type": "execute_result"
    }
   ],
   "source": [
    "b=A\n",
    "b"
   ]
  },
  {
   "cell_type": "code",
   "execution_count": 13,
   "id": "2d2cebd4",
   "metadata": {},
   "outputs": [
    {
     "data": {
      "text/plain": [
       "[500, 10, 50, 100]"
      ]
     },
     "execution_count": 13,
     "metadata": {},
     "output_type": "execute_result"
    }
   ],
   "source": [
    "A[0]=500\n",
    "b"
   ]
  },
  {
   "cell_type": "markdown",
   "id": "8cf2c5de",
   "metadata": {},
   "source": [
    "#since a=b , changes in a are reflected in b also"
   ]
  },
  {
   "cell_type": "markdown",
   "id": "50ff1e23",
   "metadata": {},
   "source": [
    "# clone "
   ]
  },
  {
   "cell_type": "code",
   "execution_count": 16,
   "id": "4551deb2",
   "metadata": {},
   "outputs": [
    {
     "data": {
      "text/plain": [
       "[500, 10, 50, 100]"
      ]
     },
     "execution_count": 16,
     "metadata": {},
     "output_type": "execute_result"
    }
   ],
   "source": [
    "c=A[ : ]\n",
    "c"
   ]
  },
  {
   "cell_type": "code",
   "execution_count": 17,
   "id": "9a79c095",
   "metadata": {},
   "outputs": [
    {
     "data": {
      "text/plain": [
       "['awesome', 10, 50, 100]"
      ]
     },
     "execution_count": 17,
     "metadata": {},
     "output_type": "execute_result"
    }
   ],
   "source": [
    "A[0]=\"awesome\"\n",
    "A"
   ]
  },
  {
   "cell_type": "code",
   "execution_count": 19,
   "id": "2e173749",
   "metadata": {},
   "outputs": [
    {
     "data": {
      "text/plain": [
       "[500, 10, 50, 100]"
      ]
     },
     "execution_count": 19,
     "metadata": {},
     "output_type": "execute_result"
    }
   ],
   "source": [
    "A[0]=\"awesome\"\n",
    "c"
   ]
  },
  {
   "cell_type": "markdown",
   "id": "acab6df8",
   "metadata": {},
   "source": [
    "#change in a will not bring a out the same change in \"c\" because \"c\" is a clone of \"a\" not alias as 'b'"
   ]
  },
  {
   "cell_type": "markdown",
   "id": "6444a54e",
   "metadata": {},
   "source": [
    "# sets"
   ]
  },
  {
   "cell_type": "code",
   "execution_count": 23,
   "id": "f1623d4f",
   "metadata": {},
   "outputs": [
    {
     "data": {
      "text/plain": [
       "{'dimple', 'kareena', 'madhoo', 'tina'}"
      ]
     },
     "execution_count": 23,
     "metadata": {},
     "output_type": "execute_result"
    }
   ],
   "source": [
    "set1={\"dimple\",\"madhoo\",\"kareena\",\"tina\"}\n",
    "set1"
   ]
  },
  {
   "cell_type": "code",
   "execution_count": 24,
   "id": "e1706891",
   "metadata": {},
   "outputs": [
    {
     "data": {
      "text/plain": [
       "4"
      ]
     },
     "execution_count": 24,
     "metadata": {},
     "output_type": "execute_result"
    }
   ],
   "source": [
    "len(set1)"
   ]
  },
  {
   "cell_type": "code",
   "execution_count": 27,
   "id": "b62dc325",
   "metadata": {},
   "outputs": [
    {
     "data": {
      "text/plain": [
       "{11, 22, 33}"
      ]
     },
     "execution_count": 27,
     "metadata": {},
     "output_type": "execute_result"
    }
   ],
   "source": [
    "set2={11,22,33,22}\n",
    "set2"
   ]
  },
  {
   "cell_type": "markdown",
   "id": "b02c8e16",
   "metadata": {},
   "source": [
    "#duplicates vales are ignored"
   ]
  },
  {
   "cell_type": "code",
   "execution_count": 26,
   "id": "9f3f9b00",
   "metadata": {},
   "outputs": [
    {
     "data": {
      "text/plain": [
       "3"
      ]
     },
     "execution_count": 26,
     "metadata": {},
     "output_type": "execute_result"
    }
   ],
   "source": [
    "len(set2)"
   ]
  },
  {
   "cell_type": "code",
   "execution_count": 28,
   "id": "b5627b85",
   "metadata": {},
   "outputs": [
    {
     "data": {
      "text/plain": [
       "{11, 'dimple', 'tina'}"
      ]
     },
     "execution_count": 28,
     "metadata": {},
     "output_type": "execute_result"
    }
   ],
   "source": [
    "set3={\"dimple\",\"tina\",11}\n",
    "set3"
   ]
  },
  {
   "cell_type": "code",
   "execution_count": 29,
   "id": "5e379698",
   "metadata": {},
   "outputs": [
    {
     "data": {
      "text/plain": [
       "3"
      ]
     },
     "execution_count": 29,
     "metadata": {},
     "output_type": "execute_result"
    }
   ],
   "source": [
    "len(set3)"
   ]
  },
  {
   "cell_type": "code",
   "execution_count": 31,
   "id": "851978c0",
   "metadata": {},
   "outputs": [
    {
     "data": {
      "text/plain": [
       "{11, 'dimple', 'kareena', 'madhoo', 'tina'}"
      ]
     },
     "execution_count": 31,
     "metadata": {},
     "output_type": "execute_result"
    }
   ],
   "source": [
    "set4=set1|set3\n",
    "set4"
   ]
  },
  {
   "cell_type": "markdown",
   "id": "df8169aa",
   "metadata": {},
   "source": [
    "#| is used for union\n",
    " names repeated in 1&3 are not repeated twice ie. duplicates are ignored"
   ]
  },
  {
   "cell_type": "markdown",
   "id": "dd908d2a",
   "metadata": {},
   "source": [
    "#### set do not have orders set3[2]"
   ]
  },
  {
   "cell_type": "markdown",
   "id": "0e495f2e",
   "metadata": {},
   "source": [
    "# list into a set"
   ]
  },
  {
   "cell_type": "code",
   "execution_count": 1,
   "id": "72d2aecf",
   "metadata": {},
   "outputs": [
    {
     "data": {
      "text/plain": [
       "[11, 22, 33, 22, 44]"
      ]
     },
     "execution_count": 1,
     "metadata": {},
     "output_type": "execute_result"
    }
   ],
   "source": [
    "alist=[11,22,33,22,44]\n",
    "alist"
   ]
  },
  {
   "cell_type": "code",
   "execution_count": 2,
   "id": "94d2a2e6",
   "metadata": {},
   "outputs": [
    {
     "data": {
      "text/plain": [
       "5"
      ]
     },
     "execution_count": 2,
     "metadata": {},
     "output_type": "execute_result"
    }
   ],
   "source": [
    "len(alist)"
   ]
  },
  {
   "cell_type": "code",
   "execution_count": 3,
   "id": "b087e47d",
   "metadata": {},
   "outputs": [
    {
     "data": {
      "text/plain": [
       "{11, 22, 33, 44}"
      ]
     },
     "execution_count": 3,
     "metadata": {},
     "output_type": "execute_result"
    }
   ],
   "source": [
    "aset=set(alist)\n",
    "aset"
   ]
  },
  {
   "cell_type": "markdown",
   "id": "d9a30b00",
   "metadata": {},
   "source": [
    "#usage of set function\n",
    "duplicatores ignored"
   ]
  },
  {
   "cell_type": "code",
   "execution_count": 4,
   "id": "54aafc9e",
   "metadata": {},
   "outputs": [
    {
     "data": {
      "text/plain": [
       "4"
      ]
     },
     "execution_count": 4,
     "metadata": {},
     "output_type": "execute_result"
    }
   ],
   "source": [
    "len(aset)"
   ]
  },
  {
   "cell_type": "code",
   "execution_count": 5,
   "id": "17a0025a",
   "metadata": {},
   "outputs": [
    {
     "data": {
      "text/plain": [
       "33"
      ]
     },
     "execution_count": 5,
     "metadata": {},
     "output_type": "execute_result"
    }
   ],
   "source": [
    "alist[2]"
   ]
  },
  {
   "cell_type": "markdown",
   "id": "0aa9dff1",
   "metadata": {},
   "source": [
    "###### indexing possible in list"
   ]
  },
  {
   "cell_type": "code",
   "execution_count": 6,
   "id": "3ecfe34d",
   "metadata": {},
   "outputs": [
    {
     "ename": "TypeError",
     "evalue": "'set' object is not subscriptable",
     "output_type": "error",
     "traceback": [
      "\u001b[1;31m---------------------------------------------------------------------------\u001b[0m",
      "\u001b[1;31mTypeError\u001b[0m                                 Traceback (most recent call last)",
      "\u001b[1;32m~\\AppData\\Local\\Temp\\ipykernel_1192\\955961873.py\u001b[0m in \u001b[0;36m<module>\u001b[1;34m\u001b[0m\n\u001b[1;32m----> 1\u001b[1;33m \u001b[0maset\u001b[0m\u001b[1;33m[\u001b[0m\u001b[1;36m2\u001b[0m\u001b[1;33m]\u001b[0m\u001b[1;33m\u001b[0m\u001b[1;33m\u001b[0m\u001b[0m\n\u001b[0m",
      "\u001b[1;31mTypeError\u001b[0m: 'set' object is not subscriptable"
     ]
    }
   ],
   "source": [
    "aset[2]"
   ]
  },
  {
   "cell_type": "markdown",
   "id": "b221b4eb",
   "metadata": {},
   "source": [
    "#sets are not indexed"
   ]
  },
  {
   "cell_type": "markdown",
   "id": "7d5b57fa",
   "metadata": {},
   "source": [
    "### union & intersection of sets"
   ]
  },
  {
   "cell_type": "code",
   "execution_count": 6,
   "id": "b1e02002",
   "metadata": {},
   "outputs": [
    {
     "data": {
      "text/plain": [
       "{11, 22, 33}"
      ]
     },
     "execution_count": 6,
     "metadata": {},
     "output_type": "execute_result"
    }
   ],
   "source": [
    "a={11,22,33}\n",
    "a"
   ]
  },
  {
   "cell_type": "code",
   "execution_count": 7,
   "id": "35495754",
   "metadata": {},
   "outputs": [
    {
     "data": {
      "text/plain": [
       "{12, 23, 33}"
      ]
     },
     "execution_count": 7,
     "metadata": {},
     "output_type": "execute_result"
    }
   ],
   "source": [
    "b={12,23,33}\n",
    "b"
   ]
  },
  {
   "cell_type": "code",
   "execution_count": 8,
   "id": "5a087b7f",
   "metadata": {},
   "outputs": [
    {
     "data": {
      "text/plain": [
       "{11, 12, 22, 23, 33}"
      ]
     },
     "execution_count": 8,
     "metadata": {},
     "output_type": "execute_result"
    }
   ],
   "source": [
    "a|b"
   ]
  },
  {
   "cell_type": "markdown",
   "id": "3dc94119",
   "metadata": {},
   "source": [
    "########## | is used to show union ,union -all the elements i a & b"
   ]
  },
  {
   "cell_type": "markdown",
   "id": "847bef50",
   "metadata": {},
   "source": [
    "if an element is present in both sets , it is show only once"
   ]
  },
  {
   "cell_type": "code",
   "execution_count": 13,
   "id": "1c12b8d8",
   "metadata": {},
   "outputs": [
    {
     "data": {
      "text/plain": [
       "{33}"
      ]
     },
     "execution_count": 13,
     "metadata": {},
     "output_type": "execute_result"
    }
   ],
   "source": [
    "a&b"
   ]
  },
  {
   "cell_type": "markdown",
   "id": "eefa3343",
   "metadata": {},
   "source": [
    "##### & is used to show intersection , intersection -only those element that are common in both the sets a&b"
   ]
  },
  {
   "cell_type": "markdown",
   "id": "bdc38830",
   "metadata": {},
   "source": [
    "# DIFFERENCING"
   ]
  },
  {
   "cell_type": "code",
   "execution_count": 14,
   "id": "522f2590",
   "metadata": {},
   "outputs": [
    {
     "data": {
      "text/plain": [
       "{11, 22, 33}"
      ]
     },
     "execution_count": 14,
     "metadata": {},
     "output_type": "execute_result"
    }
   ],
   "source": [
    "a={11,22,33}\n",
    "a"
   ]
  },
  {
   "cell_type": "code",
   "execution_count": 15,
   "id": "651d9109",
   "metadata": {},
   "outputs": [
    {
     "data": {
      "text/plain": [
       "{12, 23, 33}"
      ]
     },
     "execution_count": 15,
     "metadata": {},
     "output_type": "execute_result"
    }
   ],
   "source": [
    "b={12,23,33}\n",
    "b"
   ]
  },
  {
   "cell_type": "code",
   "execution_count": 16,
   "id": "b68c6085",
   "metadata": {},
   "outputs": [
    {
     "data": {
      "text/plain": [
       "{11, 22}"
      ]
     },
     "execution_count": 16,
     "metadata": {},
     "output_type": "execute_result"
    }
   ],
   "source": [
    "a-b"
   ]
  },
  {
   "cell_type": "markdown",
   "id": "a0bb9d79",
   "metadata": {},
   "source": [
    "##### elements in \"a\" include 11,22,33 and those not present in \"b\" are 11,22\n",
    "33 is present in b also ,hence ignored"
   ]
  },
  {
   "cell_type": "code",
   "execution_count": 17,
   "id": "76b972f0",
   "metadata": {},
   "outputs": [
    {
     "data": {
      "text/plain": [
       "{12, 23}"
      ]
     },
     "execution_count": 17,
     "metadata": {},
     "output_type": "execute_result"
    }
   ],
   "source": [
    "b-a"
   ]
  },
  {
   "cell_type": "markdown",
   "id": "14a73b07",
   "metadata": {},
   "source": [
    "#### elements in b are 12,23,33\n",
    "present only in \"b\" are 12,23,sice 33 is present in both sets it is ignored"
   ]
  },
  {
   "cell_type": "markdown",
   "id": "d0e0942d",
   "metadata": {},
   "source": [
    "# symmetrical difference"
   ]
  },
  {
   "cell_type": "code",
   "execution_count": 18,
   "id": "6d503506",
   "metadata": {},
   "outputs": [
    {
     "data": {
      "text/plain": [
       "{12, 23, 33}"
      ]
     },
     "execution_count": 18,
     "metadata": {},
     "output_type": "execute_result"
    }
   ],
   "source": [
    "a\n",
    "b"
   ]
  },
  {
   "cell_type": "code",
   "execution_count": 19,
   "id": "b9e673ce",
   "metadata": {},
   "outputs": [
    {
     "data": {
      "text/plain": [
       "{11, 12, 22, 23}"
      ]
     },
     "execution_count": 19,
     "metadata": {},
     "output_type": "execute_result"
    }
   ],
   "source": [
    "a^b"
   ]
  },
  {
   "cell_type": "code",
   "execution_count": 20,
   "id": "0db5cbcc",
   "metadata": {},
   "outputs": [
    {
     "data": {
      "text/plain": [
       "{11, 12, 22, 23}"
      ]
     },
     "execution_count": 20,
     "metadata": {},
     "output_type": "execute_result"
    }
   ],
   "source": [
    "b^a"
   ]
  },
  {
   "cell_type": "code",
   "execution_count": null,
   "id": "bdb5c830",
   "metadata": {},
   "outputs": [],
   "source": []
  }
 ],
 "metadata": {
  "kernelspec": {
   "display_name": "Python 3 (ipykernel)",
   "language": "python",
   "name": "python3"
  },
  "language_info": {
   "codemirror_mode": {
    "name": "ipython",
    "version": 3
   },
   "file_extension": ".py",
   "mimetype": "text/x-python",
   "name": "python",
   "nbconvert_exporter": "python",
   "pygments_lexer": "ipython3",
   "version": "3.9.13"
  }
 },
 "nbformat": 4,
 "nbformat_minor": 5
}
