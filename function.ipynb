{
 "cells": [
  {
   "cell_type": "markdown",
   "id": "9fc6bdd6",
   "metadata": {},
   "source": [
    "# function"
   ]
  },
  {
   "cell_type": "markdown",
   "id": "1332e424",
   "metadata": {},
   "source": [
    "def function"
   ]
  },
  {
   "cell_type": "code",
   "execution_count": 10,
   "id": "a83868a7",
   "metadata": {},
   "outputs": [
    {
     "name": "stdout",
     "output_type": "stream",
     "text": [
      "enter any number:7\n",
      "odd\n",
      "odd\n"
     ]
    }
   ],
   "source": [
    "def eventest(x):\n",
    "    if x%2==0:\n",
    "        print(\"even\")\n",
    "    else:\n",
    "        print(\"odd\")\n",
    "n=int(input(\"enter any number:\"))\n",
    "eventest(n)#calling functions\n",
    "eventest(n)"
   ]
  },
  {
   "cell_type": "code",
   "execution_count": 19,
   "id": "8b169f6a",
   "metadata": {},
   "outputs": [
    {
     "name": "stdout",
     "output_type": "stream",
     "text": [
      "enter any number:7\n",
      "odd\n"
     ]
    }
   ],
   "source": [
    "def eventest(y):\n",
    "    if y%2==0:\n",
    "        print(\"even\")\n",
    "    else:\n",
    "        print(\"odd\")\n",
    "n=int(input(\"enter any number:\"))\n",
    "eventest(n)#calling functions"
   ]
  },
  {
   "cell_type": "code",
   "execution_count": 23,
   "id": "14492b04",
   "metadata": {},
   "outputs": [
    {
     "name": "stdout",
     "output_type": "stream",
     "text": [
      "your name: anjali\n",
      "your phone number: 8307501401\n",
      "your email id: sainianjali840@gmail.com\n"
     ]
    }
   ],
   "source": [
    "#keyword arguments\n",
    "def disp(name,phone,email):\n",
    "    print (\"your name:\",\"anjali\")\n",
    "    print (\"your phone number:\",8307501401)\n",
    "    print (\"your email id:\",\"sainianjali840@gmail.com\")\n",
    "disp(phone=8307501401,email=\"sainianjali840@gmail.com\",name=\"anjali\")"
   ]
  },
  {
   "cell_type": "code",
   "execution_count": 24,
   "id": "d0708ce6",
   "metadata": {},
   "outputs": [
    {
     "name": "stdout",
     "output_type": "stream",
     "text": [
      "your name: anjali\n",
      "your phone number: 8307501401\n",
      "your email id: sainianjali840@gmail.com\n"
     ]
    }
   ],
   "source": [
    "#keyword arguments\n",
    "def man (name,phone,email):\n",
    "    print (\"your name:\",\"anjali\")\n",
    "    print (\"your phone number:\",8307501401)\n",
    "    print (\"your email id:\",\"sainianjali840@gmail.com\")\n",
    "man(phone=8307501401,email=\"sainianjali840@gmail.com\",name=\"anjali\")"
   ]
  },
  {
   "cell_type": "code",
   "execution_count": 32,
   "id": "9a95565e",
   "metadata": {},
   "outputs": [
    {
     "name": "stdout",
     "output_type": "stream",
     "text": [
      "the sum is: 39\n",
      "the sum is: 28\n",
      "the sum is: 44\n",
      "the sum is: 51\n"
     ]
    }
   ],
   "source": [
    "# def argument\n",
    "def add(x=12,y=13,z=14):\n",
    "    t=x+y+z\n",
    "    print(\"the sum is:\",t)\n",
    "add()\n",
    "add(1)\n",
    "add(10,20)\n",
    "add(1,20,30)"
   ]
  },
  {
   "cell_type": "code",
   "execution_count": 5,
   "id": "a1350cdb",
   "metadata": {},
   "outputs": [
    {
     "name": "stdout",
     "output_type": "stream",
     "text": [
      "\n",
      " subash hobbies are:\n",
      "cricket\n",
      "movies\n",
      "traveling\n",
      "\n",
      " rajani hobbies are:\n",
      "reading books\n",
      "singing\n",
      "tennis\n"
     ]
    }
   ],
   "source": [
    "#variable length argument\n",
    "def var_len_arg(name,*args):\n",
    "    print( \"\\n\",name,\"hobbies are:\")\n",
    "    for x in args:\n",
    "        print(x)\n",
    "var_len_arg(\"subash\",\"cricket\",\"movies\",\"traveling\")\n",
    "var_len_arg(\"rajani\",\"reading books\",\"singing\",\"tennis\")"
   ]
  },
  {
   "cell_type": "code",
   "execution_count": 29,
   "id": "350f1727",
   "metadata": {},
   "outputs": [
    {
     "name": "stdout",
     "output_type": "stream",
     "text": [
      "subash hobbies are:\n",
      "cricket\n",
      "movies\n",
      "traveling\n",
      "rajani hobbies are:\n",
      "reading books\n",
      "singing\n",
      "tennis\n"
     ]
    }
   ],
   "source": [
    "#variable length argument\n",
    "def var_len_arg(name,*args):\n",
    "    print(name,\"hobbies are:\")\n",
    "    for x in args:\n",
    "        print(x)\n",
    "var_len_arg(\"subash\",\"cricket\",\"movies\",\"traveling\")\n",
    "var_len_arg(\"rajani\",\"reading books\",\"singing\",\"tennis\")"
   ]
  },
  {
   "cell_type": "code",
   "execution_count": 30,
   "id": "bd9ca099",
   "metadata": {},
   "outputs": [
    {
     "name": "stdout",
     "output_type": "stream",
     "text": [
      "anjali hobbies are:\n",
      "cricket\n",
      "movies\n",
      "traveling\n",
      "durga hobbies are:\n",
      "reading books\n",
      "singing\n",
      "tennis\n"
     ]
    }
   ],
   "source": [
    "def lan(name,*anu):\n",
    "    print(  name,\"hobbies are:\")\n",
    "    for x in anu:\n",
    "        print(x)\n",
    "lan(\"anjali\",\"cricket\",\"movies\",\"traveling\")\n",
    "lan(\"durga\",\"reading books\",\"singing\",\"tennis\")"
   ]
  },
  {
   "cell_type": "code",
   "execution_count": 7,
   "id": "3e02d7c4",
   "metadata": {},
   "outputs": [
    {
     "name": "stdout",
     "output_type": "stream",
     "text": [
      "enter value of x:3\n",
      "enter value of y:4\n",
      "3 power 4 is 81\n"
     ]
    }
   ],
   "source": [
    "#lambda or anonymouse function\n",
    "n=lambda x,y:x**y\n",
    "x=int(input(\"enter value of x:\"))\n",
    "y=int(input(\"enter value of y:\"))\n",
    "print(x,\"power\",y,\"is\",n(x,y))"
   ]
  },
  {
   "cell_type": "code",
   "execution_count": 42,
   "id": "59881bf6",
   "metadata": {},
   "outputs": [
    {
     "name": "stdout",
     "output_type": "stream",
     "text": [
      "enter value of x:6\n",
      "enter value of y:8\n"
     ]
    },
    {
     "data": {
      "text/plain": [
       "14"
      ]
     },
     "execution_count": 42,
     "metadata": {},
     "output_type": "execute_result"
    }
   ],
   "source": [
    "#lambda or anonymouse function\n",
    "n=lambda x,y:x+y\n",
    "x=int(input(\"enter value of x:\"))\n",
    "y=int(input(\"enter value of y:\"))\n",
    "n(x,y)"
   ]
  },
  {
   "cell_type": "code",
   "execution_count": 38,
   "id": "a31b82eb",
   "metadata": {},
   "outputs": [
    {
     "name": "stdout",
     "output_type": "stream",
     "text": [
      "enter value of x:8\n",
      "enter value of y:4\n",
      "12\n"
     ]
    }
   ],
   "source": [
    "#lambda or anonymouse function\n",
    "lambda x,y:x+y\n",
    "x=int(input(\"enter value of x:\"))\n",
    "y=int(input(\"enter value of y:\"))\n",
    "print(x+y)"
   ]
  },
  {
   "cell_type": "code",
   "execution_count": 1,
   "id": "e82697b5",
   "metadata": {},
   "outputs": [
    {
     "name": "stdout",
     "output_type": "stream",
     "text": [
      "enter principal amount:700000\n",
      "enter number of months:6\n",
      "enter rate of interest:5\n",
      "the simple interest is: 210000.0\n",
      "the total amount with interest is: 910000.0\n"
     ]
    }
   ],
   "source": [
    "#simple interest\n",
    "def si(p,t,r):\n",
    "    s=(p*t*r)/100;\n",
    "    print(\"the simple interest is:\",s)\n",
    "    t=p+s;\n",
    "    print(\"the total amount with interest is:\",t)\n",
    "n1=float(input(\"enter principal amount:\"))\n",
    "n2=float(input(\"enter number of months:\"))\n",
    "n3=float(input(\"enter rate of interest:\"))\n",
    "si(n1,n2,n3)"
   ]
  },
  {
   "cell_type": "code",
   "execution_count": 9,
   "id": "1325352b",
   "metadata": {},
   "outputs": [
    {
     "name": "stdout",
     "output_type": "stream",
     "text": [
      "enter value of x:3\n",
      "the increment value of 3 is 4\n"
     ]
    }
   ],
   "source": [
    "#fruitful functions and void\n",
    "def inc(y):\n",
    "    return(lambda x:x+1)(y)\n",
    "x=int(input(\"enter value of x:\"))\n",
    "print(\"the increment value of\",x,\"is\",inc(x))"
   ]
  },
  {
   "cell_type": "code",
   "execution_count": 10,
   "id": "bcfb2c00",
   "metadata": {},
   "outputs": [
    {
     "name": "stdout",
     "output_type": "stream",
     "text": [
      "enter the radius:5\n",
      "the area of the circle is: 78.5\n"
     ]
    }
   ],
   "source": [
    "#finding the area of a circle\n",
    "def area(r):\n",
    "    a=3.14*r*r\n",
    "    return(a)\n",
    "x=int(input(\"enter the radius:\"))\n",
    "r=area(x)\n",
    "print(\"the area of the circle is:\",r)"
   ]
  },
  {
   "cell_type": "code",
   "execution_count": null,
   "id": "cc79ebbd",
   "metadata": {},
   "outputs": [],
   "source": []
  },
  {
   "cell_type": "code",
   "execution_count": 11,
   "id": "02b8327b",
   "metadata": {},
   "outputs": [
    {
     "name": "stdout",
     "output_type": "stream",
     "text": [
      "inside the function local total: 30\n",
      "outside the function global total: 0\n"
     ]
    }
   ],
   "source": [
    "total=0\n",
    "def sum(arg1,arg2):\n",
    "    total=arg1+arg2;\n",
    "    print(\"inside the function local total:\",total)\n",
    "    return total;\n",
    "sum(10,20);\n",
    "print(\"outside the function global total:\",total)"
   ]
  },
  {
   "cell_type": "code",
   "execution_count": 14,
   "id": "aedcd69e",
   "metadata": {},
   "outputs": [
    {
     "name": "stdout",
     "output_type": "stream",
     "text": [
      "the sum is: 15\n",
      "the global value of total is: 15\n"
     ]
    }
   ],
   "source": [
    "total=10\n",
    "def sum(a,b):\n",
    "    global total\n",
    "    total=a+b\n",
    "    print(\"the sum is:\",total)\n",
    "sum(12,3)\n",
    "print(\"the global value of total is:\",total)"
   ]
  },
  {
   "cell_type": "code",
   "execution_count": 1,
   "id": "e2f7f9dc",
   "metadata": {},
   "outputs": [
    {
     "name": "stdout",
     "output_type": "stream",
     "text": [
      "Requirement already satisfied: pandas in c:\\users\\admin\\anaconda3\\lib\\site-packages (1.4.4)\n",
      "Requirement already satisfied: python-dateutil>=2.8.1 in c:\\users\\admin\\anaconda3\\lib\\site-packages (from pandas) (2.8.2)\n",
      "Requirement already satisfied: pytz>=2020.1 in c:\\users\\admin\\anaconda3\\lib\\site-packages (from pandas) (2022.1)\n",
      "Requirement already satisfied: numpy>=1.18.5 in c:\\users\\admin\\anaconda3\\lib\\site-packages (from pandas) (1.21.5)\n",
      "Requirement already satisfied: six>=1.5 in c:\\users\\admin\\anaconda3\\lib\\site-packages (from python-dateutil>=2.8.1->pandas) (1.16.0)\n",
      "Note: you may need to restart the kernel to use updated packages.\n"
     ]
    },
    {
     "name": "stderr",
     "output_type": "stream",
     "text": [
      "WARNING: There was an error checking the latest version of pip.\n"
     ]
    }
   ],
   "source": [
    "pip install pandas"
   ]
  },
  {
   "cell_type": "code",
   "execution_count": 2,
   "id": "bd987eac",
   "metadata": {},
   "outputs": [
    {
     "name": "stdout",
     "output_type": "stream",
     "text": [
      "Requirement already satisfied: numpy in c:\\users\\admin\\anaconda3\\lib\\site-packages (1.21.5)\n",
      "Note: you may need to restart the kernel to use updated packages.\n"
     ]
    },
    {
     "name": "stderr",
     "output_type": "stream",
     "text": [
      "WARNING: There was an error checking the latest version of pip.\n"
     ]
    }
   ],
   "source": [
    "pip install numpy"
   ]
  },
  {
   "cell_type": "code",
   "execution_count": 3,
   "id": "ef890887",
   "metadata": {},
   "outputs": [
    {
     "name": "stdout",
     "output_type": "stream",
     "text": [
      "Note: you may need to restart the kernel to use updated packages.\n"
     ]
    },
    {
     "name": "stderr",
     "output_type": "stream",
     "text": [
      "WARNING: Retrying (Retry(total=4, connect=None, read=None, redirect=None, status=None)) after connection broken by 'NewConnectionError('<pip._vendor.urllib3.connection.HTTPSConnection object at 0x0000028BBEC68520>: Failed to establish a new connection: [Errno 11001] getaddrinfo failed')': /simple/matplot/\n",
      "WARNING: Retrying (Retry(total=3, connect=None, read=None, redirect=None, status=None)) after connection broken by 'NewConnectionError('<pip._vendor.urllib3.connection.HTTPSConnection object at 0x0000028BBEC68850>: Failed to establish a new connection: [Errno 11001] getaddrinfo failed')': /simple/matplot/\n",
      "WARNING: Retrying (Retry(total=2, connect=None, read=None, redirect=None, status=None)) after connection broken by 'NewConnectionError('<pip._vendor.urllib3.connection.HTTPSConnection object at 0x0000028BBEC68B50>: Failed to establish a new connection: [Errno 11001] getaddrinfo failed')': /simple/matplot/\n",
      "WARNING: Retrying (Retry(total=1, connect=None, read=None, redirect=None, status=None)) after connection broken by 'NewConnectionError('<pip._vendor.urllib3.connection.HTTPSConnection object at 0x0000028BBEC68D00>: Failed to establish a new connection: [Errno 11001] getaddrinfo failed')': /simple/matplot/\n",
      "WARNING: Retrying (Retry(total=0, connect=None, read=None, redirect=None, status=None)) after connection broken by 'NewConnectionError('<pip._vendor.urllib3.connection.HTTPSConnection object at 0x0000028BBEC68EE0>: Failed to establish a new connection: [Errno 11001] getaddrinfo failed')': /simple/matplot/\n",
      "ERROR: Could not find a version that satisfies the requirement matplot (from versions: none)\n",
      "ERROR: No matching distribution found for matplot\n",
      "WARNING: There was an error checking the latest version of pip.\n"
     ]
    }
   ],
   "source": [
    "pip install matplot lib"
   ]
  },
  {
   "cell_type": "code",
   "execution_count": 1,
   "id": "d6cb0a64",
   "metadata": {},
   "outputs": [
    {
     "name": "stdout",
     "output_type": "stream",
     "text": [
      "Requirement already satisfied: seaborn in c:\\users\\admin\\anaconda3\\lib\\site-packages (0.11.2)\n",
      "Requirement already satisfied: scipy>=1.0 in c:\\users\\admin\\anaconda3\\lib\\site-packages (from seaborn) (1.9.1)\n",
      "Requirement already satisfied: pandas>=0.23 in c:\\users\\admin\\anaconda3\\lib\\site-packages (from seaborn) (1.4.4)\n",
      "Requirement already satisfied: numpy>=1.15 in c:\\users\\admin\\anaconda3\\lib\\site-packages (from seaborn) (1.21.5)\n",
      "Requirement already satisfied: matplotlib>=2.2 in c:\\users\\admin\\anaconda3\\lib\\site-packages (from seaborn) (3.5.2)\n",
      "Requirement already satisfied: pillow>=6.2.0 in c:\\users\\admin\\anaconda3\\lib\\site-packages (from matplotlib>=2.2->seaborn) (9.2.0)\n",
      "Requirement already satisfied: pyparsing>=2.2.1 in c:\\users\\admin\\anaconda3\\lib\\site-packages (from matplotlib>=2.2->seaborn) (3.0.9)\n",
      "Requirement already satisfied: python-dateutil>=2.7 in c:\\users\\admin\\anaconda3\\lib\\site-packages (from matplotlib>=2.2->seaborn) (2.8.2)\n",
      "Requirement already satisfied: cycler>=0.10 in c:\\users\\admin\\anaconda3\\lib\\site-packages (from matplotlib>=2.2->seaborn) (0.11.0)\n",
      "Requirement already satisfied: packaging>=20.0 in c:\\users\\admin\\anaconda3\\lib\\site-packages (from matplotlib>=2.2->seaborn) (21.3)\n",
      "Requirement already satisfied: kiwisolver>=1.0.1 in c:\\users\\admin\\anaconda3\\lib\\site-packages (from matplotlib>=2.2->seaborn) (1.4.2)\n",
      "Requirement already satisfied: fonttools>=4.22.0 in c:\\users\\admin\\anaconda3\\lib\\site-packages (from matplotlib>=2.2->seaborn) (4.25.0)\n",
      "Requirement already satisfied: pytz>=2020.1 in c:\\users\\admin\\anaconda3\\lib\\site-packages (from pandas>=0.23->seaborn) (2022.1)\n",
      "Requirement already satisfied: six>=1.5 in c:\\users\\admin\\anaconda3\\lib\\site-packages (from python-dateutil>=2.7->matplotlib>=2.2->seaborn) (1.16.0)\n",
      "Note: you may need to restart the kernel to use updated packages.\n"
     ]
    },
    {
     "name": "stderr",
     "output_type": "stream",
     "text": [
      "WARNING: There was an error checking the latest version of pip.\n"
     ]
    }
   ],
   "source": [
    "pip install seaborn"
   ]
  },
  {
   "cell_type": "code",
   "execution_count": 3,
   "id": "c659e6dc",
   "metadata": {},
   "outputs": [
    {
     "ename": "ModuleNotFoundError",
     "evalue": "No module named 'practice'",
     "output_type": "error",
     "traceback": [
      "\u001b[1;31m---------------------------------------------------------------------------\u001b[0m",
      "\u001b[1;31mModuleNotFoundError\u001b[0m                       Traceback (most recent call last)",
      "\u001b[1;32m~\\AppData\\Local\\Temp\\ipykernel_9424\\2431354924.py\u001b[0m in \u001b[0;36m<module>\u001b[1;34m\u001b[0m\n\u001b[1;32m----> 1\u001b[1;33m \u001b[1;32mimport\u001b[0m \u001b[0mpractice\u001b[0m\u001b[1;33m\u001b[0m\u001b[1;33m\u001b[0m\u001b[0m\n\u001b[0m\u001b[0;32m      2\u001b[0m \u001b[0mprint\u001b[0m\u001b[1;33m(\u001b[0m\u001b[0mpractice\u001b[0m\u001b[1;33m.\u001b[0m\u001b[0mshow\u001b[0m\u001b[1;33m(\u001b[0m\u001b[1;33m)\u001b[0m\u001b[1;33m)\u001b[0m\u001b[1;33m\u001b[0m\u001b[1;33m\u001b[0m\u001b[0m\n",
      "\u001b[1;31mModuleNotFoundError\u001b[0m: No module named 'practice'"
     ]
    }
   ],
   "source": [
    "import practice\n",
    "print(practice.show())"
   ]
  },
  {
   "cell_type": "code",
   "execution_count": 4,
   "id": "d93a42b0",
   "metadata": {},
   "outputs": [
    {
     "name": "stdout",
     "output_type": "stream",
     "text": [
      "hlo anjali\n"
     ]
    }
   ],
   "source": [
    "def disp():\n",
    "    print(\"hlo anjali\")\n",
    "    \n",
    "    "
   ]
  },
  {
   "cell_type": "code",
   "execution_count": 5,
   "id": "89222457",
   "metadata": {},
   "outputs": [
    {
     "name": "stdout",
     "output_type": "stream",
     "text": [
      "pip 22.2.2 from C:\\Users\\admin\\anaconda3\\lib\\site-packages\\pip (python 3.9)\n",
      "\n",
      "Note: you may need to restart the kernel to use updated packages.\n"
     ]
    }
   ],
   "source": [
    "pip--version"
   ]
  },
  {
   "cell_type": "code",
   "execution_count": null,
   "id": "be056eb5",
   "metadata": {},
   "outputs": [],
   "source": [
    " "
   ]
  }
 ],
 "metadata": {
  "kernelspec": {
   "display_name": "Python 3 (ipykernel)",
   "language": "python",
   "name": "python3"
  },
  "language_info": {
   "codemirror_mode": {
    "name": "ipython",
    "version": 3
   },
   "file_extension": ".py",
   "mimetype": "text/x-python",
   "name": "python",
   "nbconvert_exporter": "python",
   "pygments_lexer": "ipython3",
   "version": "3.9.13"
  }
 },
 "nbformat": 4,
 "nbformat_minor": 5
}
