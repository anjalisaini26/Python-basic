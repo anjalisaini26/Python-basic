{
 "cells": [
  {
   "cell_type": "markdown",
   "id": "2f635a52",
   "metadata": {},
   "source": [
    "# control flow"
   ]
  },
  {
   "cell_type": "markdown",
   "id": "9ea02148",
   "metadata": {},
   "source": [
    "###### programe to provide bonus marks if the categories is sports"
   ]
  },
  {
   "cell_type": "markdown",
   "id": "e797e525",
   "metadata": {},
   "source": [
    "### if condition"
   ]
  },
  {
   "cell_type": "code",
   "execution_count": 2,
   "id": "ac15e826",
   "metadata": {},
   "outputs": [
    {
     "name": "stdout",
     "output_type": "stream",
     "text": [
      "x is less than y\n"
     ]
    }
   ],
   "source": [
    "x=10\n",
    "y=30\n",
    "if(x<y):\n",
    "    print(\"x is less than y\")"
   ]
  },
  {
   "cell_type": "code",
   "execution_count": 1,
   "id": "7ef08c71",
   "metadata": {},
   "outputs": [
    {
     "name": "stdout",
     "output_type": "stream",
     "text": [
      "enter your namepayal\n",
      "hello name\n",
      "welcome \n"
     ]
    }
   ],
   "source": [
    "name=input(\"enter your name\")\n",
    "if(name=='payal'):\n",
    "    print(\"hello\",\"name\")\n",
    "    print(\"welcome \")"
   ]
  },
  {
   "cell_type": "code",
   "execution_count": 11,
   "id": "f38b88f6",
   "metadata": {},
   "outputs": [
    {
     "name": "stdout",
     "output_type": "stream",
     "text": [
      "enter your marks out of 100: 50\n",
      "enter your category M/S S\n",
      "total marks is 55\n"
     ]
    }
   ],
   "source": [
    "a=eval(input (\"enter your marks out of 100: \"))\n",
    "b=input(\"enter your category M/S \")\n",
    "if(b==\"S\"):\n",
    "    a=a+5\n",
    "    print(\"total marks is\",a) "
   ]
  },
  {
   "cell_type": "code",
   "execution_count": 14,
   "id": "69e3484a",
   "metadata": {},
   "outputs": [
    {
     "name": "stdout",
     "output_type": "stream",
     "text": [
      "enter your marks out of 100: 70\n",
      "enter your category M\\S M\n",
      "total marks is 76\n"
     ]
    }
   ],
   "source": [
    "a=eval(input(\"enter your marks out of 100: \"))\n",
    "b=input(\"enter your category M\\S \")\n",
    "if(b==\"M\"):\n",
    "    a=a+6\n",
    "    print(\"total marks is\",a)"
   ]
  },
  {
   "cell_type": "markdown",
   "id": "9ce05430",
   "metadata": {},
   "source": [
    "## nested if"
   ]
  },
  {
   "cell_type": "markdown",
   "id": "36fafacd",
   "metadata": {},
   "source": [
    "### if else"
   ]
  },
  {
   "cell_type": "markdown",
   "id": "0f76b94f",
   "metadata": {},
   "source": [
    "#to check given number is odd or even code"
   ]
  },
  {
   "cell_type": "code",
   "execution_count": 17,
   "id": "3ba54955",
   "metadata": {},
   "outputs": [
    {
     "name": "stdout",
     "output_type": "stream",
     "text": [
      "enter a number: 4\n",
      "this is a even number\n"
     ]
    }
   ],
   "source": [
    "n=eval(input(\"enter a number: \"))\n",
    "if(n%2==0):\n",
    "    print(\"this is a even number\")\n",
    "else:\n",
    "        print(\"this is odd number )"
   ]
  },
  {
   "cell_type": "code",
   "execution_count": 8,
   "id": "0c73d17f",
   "metadata": {},
   "outputs": [
    {
     "name": "stdout",
     "output_type": "stream",
     "text": [
      "enter a number7\n",
      "positive number\n"
     ]
    }
   ],
   "source": [
    "n=eval(input(\"enter a number\"))\n",
    "if(n>=0):\n",
    "    print(\"positive number\")\n",
    "else:\n",
    "    print(\"negative number\")"
   ]
  },
  {
   "cell_type": "code",
   "execution_count": 18,
   "id": "9fe1404e",
   "metadata": {},
   "outputs": [
    {
     "name": "stdout",
     "output_type": "stream",
     "text": [
      "enter a number: 3\n",
      "this is odd number\n"
     ]
    }
   ],
   "source": [
    "n=eval(input(\"enter a number: \"))\n",
    "if(n%2==0):\n",
    "    print(\"this is a even number\")\n",
    "else:\n",
    "    print(\"this is odd number\")"
   ]
  },
  {
   "cell_type": "code",
   "execution_count": 7,
   "id": "e565cc3e",
   "metadata": {},
   "outputs": [
    {
     "name": "stdout",
     "output_type": "stream",
     "text": [
      "enter a year2015\n",
      "not leap year\n"
     ]
    }
   ],
   "source": [
    "y=eval(input(\"enter a year\"))\n",
    "if(y%4==0):\n",
    "    print(\"leap year\")\n",
    "else:\n",
    "        print(\"not leap year\")"
   ]
  },
  {
   "cell_type": "markdown",
   "id": "01d347c5",
   "metadata": {},
   "source": [
    "# if-elif-else"
   ]
  },
  {
   "cell_type": "code",
   "execution_count": 11,
   "id": "bd4169b4",
   "metadata": {},
   "outputs": [
    {
     "name": "stdout",
     "output_type": "stream",
     "text": [
      "enter your marks:64\n",
      "grade:c\n"
     ]
    }
   ],
   "source": [
    "mark=eval(input(\"enter your marks:\"))\n",
    "if(mark>=90):\n",
    "    print(\"grade:s\")\n",
    "elif(mark>=80):\n",
    "    print(\"grade:a\")\n",
    "elif(mark>70):\n",
    "    print(\"grade:b\")\n",
    "elif(mark>=50):\n",
    "    print(\"grade:c\")\n",
    "else:\n",
    "    print(\"fail\")\n",
    "    "
   ]
  },
  {
   "cell_type": "code",
   "execution_count": 14,
   "id": "aee5c6e0",
   "metadata": {},
   "outputs": [
    {
     "name": "stdout",
     "output_type": "stream",
     "text": [
      "enter colour of light:red\n",
      "stop\n"
     ]
    }
   ],
   "source": [
    "colour=input(\"enter colour of light:\")\n",
    "if(colour==\"green\"):\n",
    "    print(\"go\")\n",
    "elif(colour==\"yellow\"):\n",
    "    print(\"get ready\")\n",
    "else:\n",
    "    print(\"stop\")"
   ]
  },
  {
   "cell_type": "markdown",
   "id": "0b208c64",
   "metadata": {},
   "source": [
    "# nested conditionals"
   ]
  },
  {
   "cell_type": "code",
   "execution_count": 15,
   "id": "89622dea",
   "metadata": {},
   "outputs": [
    {
     "name": "stdout",
     "output_type": "stream",
     "text": [
      "enter a value of a: 60\n",
      "enter a value of b: 70\n",
      "enter a value of c: 50\n",
      "the greatest number is 70\n"
     ]
    }
   ],
   "source": [
    "a=eval(input(\"enter a value of a: \"))\n",
    "b=eval(input(\"enter a value of b: \"))\n",
    "c=eval(input(\"enter a value of c: \"))\n",
    "if(a>b):\n",
    "    if(a>c):\n",
    "        print(\"the greatest number is\",a)\n",
    "    else:\n",
    "        print(\"the greatest number is\",c)\n",
    "else:\n",
    "    if(b>c):\n",
    "        print(\"the greatest number is\",b)    \n",
    "    else:\n",
    "        print(\"the greatest number is\",c)"
   ]
  },
  {
   "cell_type": "code",
   "execution_count": 18,
   "id": "07bd99ab",
   "metadata": {},
   "outputs": [
    {
     "name": "stdout",
     "output_type": "stream",
     "text": [
      "enter the value of n:8\n",
      "the number is positive\n"
     ]
    }
   ],
   "source": [
    "n=eval(input(\"enter the value of n:\"))\n",
    "if(n==0):\n",
    "    print(\"the number is zero\")\n",
    "else:\n",
    "    if(n>0):\n",
    "        print(\"the number is positive\")\n",
    "    else:\n",
    "        print(\"the number is negtive\")"
   ]
  },
  {
   "cell_type": "code",
   "execution_count": 19,
   "id": "53e6478a",
   "metadata": {},
   "outputs": [
    {
     "name": "stdout",
     "output_type": "stream",
     "text": [
      "enter a number:-5\n",
      "this is negative\n"
     ]
    }
   ],
   "source": [
    "a=eval(input(\"enter a number:\"))\n",
    "if(a>0):\n",
    "    print(\"this is positive\")\n",
    "elif(a==0):\n",
    "    print(\"this is zero\")\n",
    "else:\n",
    "    print(\"this is negative\")"
   ]
  },
  {
   "cell_type": "markdown",
   "id": "78ab108d",
   "metadata": {},
   "source": [
    "# while loop"
   ]
  },
  {
   "cell_type": "code",
   "execution_count": 5,
   "id": "769fd39c",
   "metadata": {},
   "outputs": [
    {
     "name": "stdout",
     "output_type": "stream",
     "text": [
      "enter number8\n",
      "36\n"
     ]
    }
   ],
   "source": [
    "n=eval(input(\"enter number\"))\n",
    "i=1\n",
    "sum=0\n",
    "while(i<=n):\n",
    "    sum=sum+i\n",
    "    i=i+1 \n",
    "print(sum)"
   ]
  },
  {
   "cell_type": "code",
   "execution_count": 23,
   "id": "93674575",
   "metadata": {},
   "outputs": [
    {
     "name": "stdout",
     "output_type": "stream",
     "text": [
      "enter n 5\n",
      "1\n",
      "2\n",
      "6\n",
      "24\n",
      "120\n"
     ]
    }
   ],
   "source": [
    "n=eval(input(\"enter n \"))\n",
    "i=1\n",
    "fact=1\n",
    "while(i<=n):\n",
    "    fact=fact*i\n",
    "    i=i+1\n",
    "    print(fact)"
   ]
  },
  {
   "cell_type": "code",
   "execution_count": 24,
   "id": "47c7bdec",
   "metadata": {},
   "outputs": [
    {
     "name": "stdout",
     "output_type": "stream",
     "text": [
      "enter a number123\n",
      "3\n",
      "5\n",
      "6\n"
     ]
    }
   ],
   "source": [
    "n=eval(input(\"enter a number\"))\n",
    "sum=0\n",
    "while(n>0):\n",
    "    a=n%10\n",
    "    sum=sum+a\n",
    "    n=n//10\n",
    "    print(sum)"
   ]
  },
  {
   "cell_type": "code",
   "execution_count": 25,
   "id": "34f96d25",
   "metadata": {},
   "outputs": [
    {
     "name": "stdout",
     "output_type": "stream",
     "text": [
      "enter a number123\n",
      "3\n",
      "32\n",
      "321\n"
     ]
    }
   ],
   "source": [
    "n=eval(input(\"enter a number\"))\n",
    "sum=0\n",
    "while(n>0):\n",
    "    a=n%10\n",
    "    sum=sum*10+a\n",
    "    n=n//10\n",
    "    print(sum)"
   ]
  },
  {
   "cell_type": "code",
   "execution_count": 29,
   "id": "38eae742",
   "metadata": {},
   "outputs": [
    {
     "name": "stdout",
     "output_type": "stream",
     "text": [
      "enter a number153\n",
      "the given number is not armstorng number\n",
      "the given number is not armstorng number\n",
      "the given number is armstrong number\n"
     ]
    }
   ],
   "source": [
    "n=eval(input(\"enter a number\"))\n",
    "org=n\n",
    "sum=0\n",
    "while(n>0):\n",
    "    a=n%10\n",
    "    sum=sum+a*a*a\n",
    "    n=n//10\n",
    "    if(sum==org):\n",
    "        print(\"the given number is armstrong number\")\n",
    "    else:\n",
    "        print(\"the given number is not armstorng number\")"
   ]
  },
  {
   "cell_type": "code",
   "execution_count": 30,
   "id": "66b9b250",
   "metadata": {},
   "outputs": [
    {
     "name": "stdout",
     "output_type": "stream",
     "text": [
      "enter a number121\n",
      "the given no is palindrome\n"
     ]
    }
   ],
   "source": [
    "n=eval(input(\"enter a number\"))\n",
    "org=n\n",
    "sum=0\n",
    "while(n>0):\n",
    "    a=n%10\n",
    "    sum=sum*10+a\n",
    "    n=n//10\n",
    "if(sum==org):\n",
    "    print(\"the given no is palindrome\")\n",
    "else:\n",
    "    print(\"the given no is not palindrome\")"
   ]
  },
  {
   "cell_type": "markdown",
   "id": "57caee1d",
   "metadata": {},
   "source": [
    "# for loop"
   ]
  },
  {
   "cell_type": "markdown",
   "id": "a7ce82da",
   "metadata": {},
   "source": [
    "string"
   ]
  },
  {
   "cell_type": "code",
   "execution_count": 9,
   "id": "75302f5e",
   "metadata": {},
   "outputs": [
    {
     "name": "stdout",
     "output_type": "stream",
     "text": [
      "A\n",
      "p\n",
      "p\n",
      "l\n",
      "e\n"
     ]
    }
   ],
   "source": [
    "for i in 'Apple':\n",
    "    print(i)"
   ]
  },
  {
   "cell_type": "code",
   "execution_count": 11,
   "id": "395e161b",
   "metadata": {},
   "outputs": [
    {
     "name": "stdout",
     "output_type": "stream",
     "text": [
      "a\n",
      "p\n",
      "p\n",
      "l\n",
      "e\n"
     ]
    }
   ],
   "source": [
    "for i in \"apple\":\n",
    "    print(i)"
   ]
  },
  {
   "cell_type": "markdown",
   "id": "6046f80a",
   "metadata": {},
   "source": [
    "list"
   ]
  },
  {
   "cell_type": "code",
   "execution_count": 31,
   "id": "17c694c9",
   "metadata": {},
   "outputs": [
    {
     "name": "stdout",
     "output_type": "stream",
     "text": [
      "2\n",
      "3\n",
      "4\n",
      "7\n",
      "8\n",
      "9\n"
     ]
    }
   ],
   "source": [
    "for i in[2,3,4,7,8,9]:\n",
    "    print(i)"
   ]
  },
  {
   "cell_type": "code",
   "execution_count": 3,
   "id": "8b37453a",
   "metadata": {},
   "outputs": [
    {
     "name": "stdout",
     "output_type": "stream",
     "text": [
      "1\n",
      "2\n",
      "3\n",
      "4\n",
      "5\n",
      "6\n",
      "7\n",
      "8\n",
      "9\n",
      "10\n"
     ]
    }
   ],
   "source": [
    "for i in range(1,11):\n",
    "    print(i)"
   ]
  },
  {
   "cell_type": "markdown",
   "id": "170dafc4",
   "metadata": {},
   "source": [
    "tuple"
   ]
  },
  {
   "cell_type": "code",
   "execution_count": 32,
   "id": "5ba0ed1d",
   "metadata": {},
   "outputs": [
    {
     "name": "stdout",
     "output_type": "stream",
     "text": [
      "2\n",
      "3\n",
      "1\n"
     ]
    }
   ],
   "source": [
    "for i in(2,3,1):\n",
    "    print(i)"
   ]
  },
  {
   "cell_type": "markdown",
   "id": "e3a45075",
   "metadata": {},
   "source": [
    "dictionary"
   ]
  },
  {
   "cell_type": "code",
   "execution_count": 11,
   "id": "71b655c1",
   "metadata": {},
   "outputs": [
    {
     "ename": "SyntaxError",
     "evalue": "invalid syntax (1886796740.py, line 1)",
     "output_type": "error",
     "traceback": [
      "\u001b[1;36m  File \u001b[1;32m\"C:\\Users\\admin\\AppData\\Local\\Temp\\ipykernel_2872\\1886796740.py\"\u001b[1;36m, line \u001b[1;32m1\u001b[0m\n\u001b[1;33m    for i in {\"bobby\":\"dimple\",\"sholay\":\"hema\"}\u001b[0m\n\u001b[1;37m                                               ^\u001b[0m\n\u001b[1;31mSyntaxError\u001b[0m\u001b[1;31m:\u001b[0m invalid syntax\n"
     ]
    }
   ],
   "source": [
    "for i in {\"bobby\":\"dimple\",\"sholay\":\"hema\"}\n",
    "    print(i)"
   ]
  },
  {
   "cell_type": "code",
   "execution_count": 3,
   "id": "46088043",
   "metadata": {},
   "outputs": [
    {
     "name": "stdout",
     "output_type": "stream",
     "text": [
      "enter the number of term:6\n",
      "fibonacci series:\n",
      "0 0\n"
     ]
    }
   ],
   "source": [
    "a=0\n",
    "b=0\n",
    "n=eval(input(\"enter the number of term:\"))\n",
    "print(\"fibonacci series:\")\n",
    "print(a,b)\n",
    "for i in range(1,n,1):\n",
    "    c=a+b\n",
    "    a=b\n",
    "    b=c"
   ]
  },
  {
   "cell_type": "code",
   "execution_count": 9,
   "id": "e8cba2b3",
   "metadata": {},
   "outputs": [
    {
     "name": "stdout",
     "output_type": "stream",
     "text": [
      "enter a number7\n",
      " the num is a prime number\n"
     ]
    }
   ],
   "source": [
    "n=eval(input(\"enter a number\"))\n",
    "for i in range(2,n):\n",
    "    if(n%i==0):\n",
    "        print(\"the num is not a prime\")\n",
    "        break\n",
    "else:\n",
    "    print(\" the num is a prime number\")"
   ]
  },
  {
   "cell_type": "markdown",
   "id": "eb1f3563",
   "metadata": {},
   "source": [
    "### Break"
   ]
  },
  {
   "cell_type": "code",
   "execution_count": 18,
   "id": "935d4ad4",
   "metadata": {},
   "outputs": [
    {
     "name": "stdout",
     "output_type": "stream",
     "text": [
      "w\n",
      "e\n",
      "l\n"
     ]
    }
   ],
   "source": [
    "for i in \"welcome\":\n",
    "    if(i==\"c\"):\n",
    "        break\n",
    "    print(i)"
   ]
  },
  {
   "cell_type": "code",
   "execution_count": 17,
   "id": "302937a2",
   "metadata": {},
   "outputs": [
    {
     "name": "stdout",
     "output_type": "stream",
     "text": [
      "enter number7\n",
      "this is a prime number\n"
     ]
    }
   ],
   "source": [
    "n=eval(input(\"enter number\"))\n",
    "for i in range (2,n):\n",
    "    if (n%i==0):\n",
    "        print(\"this is not a prime number\")\n",
    "        break\n",
    "else:\n",
    "    print(\"this is a prime number\")"
   ]
  },
  {
   "cell_type": "markdown",
   "id": "fd7080b2",
   "metadata": {},
   "source": [
    "### Continue"
   ]
  },
  {
   "cell_type": "code",
   "execution_count": 20,
   "id": "365f9895",
   "metadata": {},
   "outputs": [
    {
     "name": "stdout",
     "output_type": "stream",
     "text": [
      "A\n",
      "p\n",
      "p\n",
      "e\n"
     ]
    }
   ],
   "source": [
    "for i in 'Apple':\n",
    "    if(i==\"l\"):\n",
    "        continue\n",
    "    print(i)\n",
    "       "
   ]
  },
  {
   "cell_type": "markdown",
   "id": "834b211c",
   "metadata": {},
   "source": [
    "### Break"
   ]
  },
  {
   "cell_type": "code",
   "execution_count": 23,
   "id": "d561b6de",
   "metadata": {},
   "outputs": [
    {
     "name": "stdout",
     "output_type": "stream",
     "text": [
      "A\n",
      "p\n",
      "p\n"
     ]
    }
   ],
   "source": [
    "for i in 'Apple':\n",
    "    if(i==\"l\"):\n",
    "        break\n",
    "    print(i)"
   ]
  },
  {
   "cell_type": "markdown",
   "id": "5a849059",
   "metadata": {},
   "source": [
    "### Pass"
   ]
  },
  {
   "cell_type": "code",
   "execution_count": 24,
   "id": "b54a83e0",
   "metadata": {},
   "outputs": [
    {
     "name": "stdout",
     "output_type": "stream",
     "text": [
      "A\n",
      "p\n",
      "p\n",
      "l\n",
      "e\n"
     ]
    }
   ],
   "source": [
    "for i in 'Apple':\n",
    "    if(i==\"l\"):\n",
    "        pass\n",
    "    print(i)"
   ]
  },
  {
   "cell_type": "markdown",
   "id": "86b4b0cd",
   "metadata": {},
   "source": [
    "else in for loop"
   ]
  },
  {
   "cell_type": "code",
   "execution_count": 20,
   "id": "0d92df25",
   "metadata": {},
   "outputs": [
    {
     "name": "stdout",
     "output_type": "stream",
     "text": [
      "1\n",
      "2\n",
      "3\n",
      "4\n",
      "5\n",
      " the number greater than 6\n"
     ]
    }
   ],
   "source": [
    "for i in range(1,6):\n",
    "    print(i)\n",
    "else:\n",
    "    print(\" the number greater than 6\")"
   ]
  },
  {
   "cell_type": "markdown",
   "id": "ecb0ed8d",
   "metadata": {},
   "source": [
    "else in while loop"
   ]
  },
  {
   "cell_type": "code",
   "execution_count": 4,
   "id": "ed9a3057",
   "metadata": {},
   "outputs": [
    {
     "name": "stdout",
     "output_type": "stream",
     "text": [
      "1\n",
      "2\n",
      "3\n",
      "4\n",
      "5\n",
      "the number greater 5\n"
     ]
    }
   ],
   "source": [
    "i=1\n",
    "while(i<=5):\n",
    "    print(i)\n",
    "    i=i+1\n",
    "else:\n",
    "    print(\"the number greater 5\")"
   ]
  },
  {
   "cell_type": "code",
   "execution_count": null,
   "id": "e518a643",
   "metadata": {},
   "outputs": [],
   "source": []
  }
 ],
 "metadata": {
  "kernelspec": {
   "display_name": "Python 3 (ipykernel)",
   "language": "python",
   "name": "python3"
  },
  "language_info": {
   "codemirror_mode": {
    "name": "ipython",
    "version": 3
   },
   "file_extension": ".py",
   "mimetype": "text/x-python",
   "name": "python",
   "nbconvert_exporter": "python",
   "pygments_lexer": "ipython3",
   "version": "3.9.13"
  }
 },
 "nbformat": 4,
 "nbformat_minor": 5
}
